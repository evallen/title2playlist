{
  "cells": [
    {
      "cell_type": "code",
      "execution_count": null,
      "metadata": {
        "id": "oz6CVlTGpYNk"
      },
      "outputs": [],
      "source": [
        "# IMPORTS\n",
        "import matplotlib.pyplot as plt\n",
        "import numpy as np\n",
        "import pandas as pd\n",
        "import sqlite3\n",
        "import torch\n",
        "import torch.optim as optim\n",
        "import torch.nn as nn\n",
        "\n",
        "from sklearn.preprocessing import StandardScaler, MinMaxScaler\n",
        "from torch.utils.data import TensorDataset, Dataset, DataLoader\n",
        "!pip install transformers\n",
        "from transformers import BertModel, BertTokenizer\n",
        "from transformers import AdamW"
      ]
    },
    {
      "cell_type": "code",
      "execution_count": 2,
      "metadata": {
        "colab": {
          "base_uri": "https://localhost:8080/"
        },
        "id": "-QPJ58g0siuR",
        "outputId": "ab9082e2-0a5b-4ef7-f8dc-0dcad29b8c20"
      },
      "outputs": [
        {
          "name": "stdout",
          "output_type": "stream",
          "text": [
            "Drive already mounted at /content/drive; to attempt to forcibly remount, call drive.mount(\"/content/drive\", force_remount=True).\n"
          ]
        }
      ],
      "source": [
        "from google.colab import drive\n",
        "drive.mount('/content/drive')"
      ]
    },
    {
      "cell_type": "code",
      "execution_count": 3,
      "metadata": {
        "colab": {
          "base_uri": "https://localhost:8080/"
        },
        "id": "cV7VNLCDJ5kS",
        "outputId": "fb387bfe-625e-4cc6-e64e-f591eeeb25d0"
      },
      "outputs": [
        {
          "name": "stdout",
          "output_type": "stream",
          "text": [
            "cuda\n"
          ]
        }
      ],
      "source": [
        "if torch.cuda.is_available():\n",
        "    device = torch.device(\"cuda\")\n",
        "else:\n",
        "    device = torch.device(\"cpu\")\n",
        "\n",
        "print(device)"
      ]
    },
    {
      "cell_type": "code",
      "execution_count": 4,
      "metadata": {
        "id": "oi0irn43Eg2S"
      },
      "outputs": [],
      "source": [
        "# ---------------  TOKENIZATION ----------------\\\n",
        "tokenizer = BertTokenizer.from_pretrained('bert-base-cased')"
      ]
    },
    {
      "cell_type": "code",
      "execution_count": 5,
      "metadata": {
        "colab": {
          "base_uri": "https://localhost:8080/"
        },
        "id": "1sdyjergSEPh",
        "outputId": "3251083f-6041-4301-f03b-855b97c9c05f"
      },
      "outputs": [
        {
          "data": {
            "text/plain": [
              "BertModel(\n",
              "  (embeddings): BertEmbeddings(\n",
              "    (word_embeddings): Embedding(28996, 768, padding_idx=0)\n",
              "    (position_embeddings): Embedding(512, 768)\n",
              "    (token_type_embeddings): Embedding(2, 768)\n",
              "    (LayerNorm): LayerNorm((768,), eps=1e-12, elementwise_affine=True)\n",
              "    (dropout): Dropout(p=0.1, inplace=False)\n",
              "  )\n",
              "  (encoder): BertEncoder(\n",
              "    (layer): ModuleList(\n",
              "      (0-11): 12 x BertLayer(\n",
              "        (attention): BertAttention(\n",
              "          (self): BertSelfAttention(\n",
              "            (query): Linear(in_features=768, out_features=768, bias=True)\n",
              "            (key): Linear(in_features=768, out_features=768, bias=True)\n",
              "            (value): Linear(in_features=768, out_features=768, bias=True)\n",
              "            (dropout): Dropout(p=0.1, inplace=False)\n",
              "          )\n",
              "          (output): BertSelfOutput(\n",
              "            (dense): Linear(in_features=768, out_features=768, bias=True)\n",
              "            (LayerNorm): LayerNorm((768,), eps=1e-12, elementwise_affine=True)\n",
              "            (dropout): Dropout(p=0.1, inplace=False)\n",
              "          )\n",
              "        )\n",
              "        (intermediate): BertIntermediate(\n",
              "          (dense): Linear(in_features=768, out_features=3072, bias=True)\n",
              "          (intermediate_act_fn): GELUActivation()\n",
              "        )\n",
              "        (output): BertOutput(\n",
              "          (dense): Linear(in_features=3072, out_features=768, bias=True)\n",
              "          (LayerNorm): LayerNorm((768,), eps=1e-12, elementwise_affine=True)\n",
              "          (dropout): Dropout(p=0.1, inplace=False)\n",
              "        )\n",
              "      )\n",
              "    )\n",
              "  )\n",
              "  (pooler): BertPooler(\n",
              "    (dense): Linear(in_features=768, out_features=768, bias=True)\n",
              "    (activation): Tanh()\n",
              "  )\n",
              ")"
            ]
          },
          "execution_count": 5,
          "metadata": {},
          "output_type": "execute_result"
        }
      ],
      "source": [
        "# --------------- BERT -------------\n",
        "model = BertModel.from_pretrained('bert-base-cased')\n",
        "model.to(device)"
      ]
    },
    {
      "cell_type": "code",
      "execution_count": 6,
      "metadata": {
        "colab": {
          "base_uri": "https://localhost:8080/"
        },
        "id": "3bX72POOuatu",
        "outputId": "5e6740d0-0c76-4205-e557-10da1cbfbe74"
      },
      "outputs": [
        {
          "name": "stdout",
          "output_type": "stream",
          "text": [
            "['Throwbacks' 'Awesome Playlist' 'korean ']\n"
          ]
        }
      ],
      "source": [
        "# ---------------  EXAMPLE DATA ----------------\n",
        "db_file = \"/content/drive/My Drive/Colab Notebooks/Title2Playlist/title_dataset-PREVIEW.db\"\n",
        "sql_conn = sqlite3.Connection(db_file)\n",
        "cursor = sql_conn.cursor()\n",
        "\n",
        "index = 0\n",
        "lim = 3\n",
        "data = cursor.execute(\"SELECT title FROM titles LIMIT ? OFFSET ?\", (lim, index))\n",
        "titles = np.asarray(data.fetchall()).squeeze()\n",
        "print(titles)"
      ]
    },
    {
      "cell_type": "code",
      "execution_count": 7,
      "metadata": {
        "id": "mf899KOTRtwt"
      },
      "outputs": [],
      "source": [
        "def create_embeddings(input, max_seq_length):\n",
        "  tokenized_input = tokenizer(text=input.tolist(),\n",
        "                              add_special_tokens=True,\n",
        "                              padding='max_length',\n",
        "                              max_length=max_seq_length,\n",
        "                              return_tensors='pt',  # PyTorch tensors\n",
        "                              return_attention_mask=True)\n",
        "\n",
        "  input_ids = tokenized_input['input_ids']\n",
        "  att_masks = tokenized_input['attention_mask']\n",
        "\n",
        "  # --------------- BERT OUTPUT ---------------\n",
        "  output_embeddings = []\n",
        "  for id, mask in zip(input_ids, att_masks):\n",
        "    title_id = id.reshape(1, len(id)).to(device)\n",
        "    title_mask = mask.reshape(1, len(mask)).to(device)\n",
        "    output = model(input_ids=title_id, attention_mask=title_mask)\n",
        "    output_embeddings.append(output[1])\n",
        "\n",
        "  return output_embeddings"
      ]
    },
    {
      "cell_type": "code",
      "execution_count": 8,
      "metadata": {
        "colab": {
          "base_uri": "https://localhost:8080/"
        },
        "id": "FIqK0N3fSa2f",
        "outputId": "9593044d-ec68-4b0c-9ca5-b084312c4ae4"
      },
      "outputs": [
        {
          "name": "stdout",
          "output_type": "stream",
          "text": [
            "torch.Size([1, 768])\n"
          ]
        }
      ],
      "source": [
        "output = create_embeddings(titles, 30)\n",
        "print(output[0].size())"
      ]
    }
  ],
  "metadata": {
    "accelerator": "GPU",
    "colab": {
      "gpuType": "T4",
      "provenance": []
    },
    "gpuClass": "standard",
    "interpreter": {
      "hash": "89bbfe0f2eb9110b73a18860bc5e254496a9982a8518159c028b1830d5097eca"
    },
    "kernelspec": {
      "display_name": "Python 3.10.2 64-bit ('spotify_venv')",
      "language": "python",
      "name": "python3"
    },
    "language_info": {
      "codemirror_mode": {
        "name": "ipython",
        "version": 3
      },
      "file_extension": ".py",
      "mimetype": "text/x-python",
      "name": "python",
      "nbconvert_exporter": "python",
      "pygments_lexer": "ipython3",
      "version": "3.10.2"
    },
    "orig_nbformat": 4
  },
  "nbformat": 4,
  "nbformat_minor": 0
}
