{
 "cells": [
  {
   "cell_type": "code",
   "execution_count": 5,
   "metadata": {},
   "outputs": [],
   "source": [
    "# IMPORTS\n",
    "import matplotlib.pyplot as plt\n",
    "import numpy as np\n",
    "import pandas as pd\n",
    "import sqlite3\n",
    "import torch\n",
    "import torch.optim as optim\n",
    "import torch.nn as nn\n",
    "\n",
    "from sklearn.preprocessing import StandardScaler\n",
    "from torch.utils.data import TensorDataset, Dataset, DataLoader\n",
    "from transformers import BertModel, BertTokenizer\n",
    "from transformers import AdamW"
   ]
  },
  {
   "cell_type": "code",
   "execution_count": 6,
   "metadata": {},
   "outputs": [
    {
     "name": "stderr",
     "output_type": "stream",
     "text": [
      "Some weights of the model checkpoint at bert-base-cased were not used when initializing BertModel: ['cls.predictions.transform.LayerNorm.weight', 'cls.predictions.bias', 'cls.predictions.decoder.weight', 'cls.seq_relationship.bias', 'cls.predictions.transform.dense.weight', 'cls.seq_relationship.weight', 'cls.predictions.transform.LayerNorm.bias', 'cls.predictions.transform.dense.bias']\n",
      "- This IS expected if you are initializing BertModel from the checkpoint of a model trained on another task or with another architecture (e.g. initializing a BertForSequenceClassification model from a BertForPreTraining model).\n",
      "- This IS NOT expected if you are initializing BertModel from the checkpoint of a model that you expect to be exactly identical (initializing a BertForSequenceClassification model from a BertForSequenceClassification model).\n"
     ]
    }
   ],
   "source": [
    "# --------- MODEL CREATION ---------\n",
    "class BertRegressor(nn.Module):\n",
    "    '''Addition of a multi-output regression layer to BERT model.'''\n",
    "    def __init__(self, drop_rate=0.2):\n",
    "        ''' Definition of BERT model and regression model '''\n",
    "        super().__init__()\n",
    "        dim_in, dim_out = 768, 24\n",
    "        self.model = BertModel.from_pretrained('bert-base-cased')\n",
    "        # Freeze layers of BERT\n",
    "        modules = [self.model.embeddings, *self.model.encoder.layer[:5]]\n",
    "        for module in modules:\n",
    "            for param in module.parameters():\n",
    "                param.requires_grad = False\n",
    "        # for param in self.model.parameters():\n",
    "        #     param.requires_grad = False\n",
    "        self.regressor = nn.Sequential(\n",
    "            nn.Dropout(drop_rate),\n",
    "            nn.Linear(dim_in, 2000),\n",
    "            nn.ReLU(),\n",
    "            nn.Linear(2000, dim_out)\n",
    "        )\n",
    "        self.double()\n",
    "\n",
    "    def forward(self, input_ids, attention_masks):\n",
    "        ''' Connecting output of BERT to regression layer '''\n",
    "        bert_out = self.model(input_ids, attention_masks)\n",
    "        cls_outputs = bert_out[1]\n",
    "        regression_out = self.regressor(cls_outputs)\n",
    "        return regression_out\n",
    "\n",
    "model = BertRegressor(drop_rate=0.2)"
   ]
  },
  {
   "cell_type": "code",
   "execution_count": 7,
   "metadata": {},
   "outputs": [],
   "source": [
    "# --------------- TOKENIZATION AND DATASET ----------------\n",
    "tokenizer = BertTokenizer.from_pretrained('bert-base-cased')\n",
    "\n",
    "sql_conn = sqlite3.Connection(\"../../data/title_dataset-PREVIEW.db\")\n",
    "\n",
    "# All data\n",
    "data = pd.read_sql(\n",
    "    \"SELECT * FROM titles\",\n",
    "    sql_conn\n",
    ")\n",
    "\n",
    "standard_scaler = StandardScaler()\n",
    "\n",
    "# Slice of first 100 entries\n",
    "train_titles = data.iloc[:100, 0]\n",
    "standard_scaler.fit(data.iloc[:100, 1:].to_numpy())\n",
    "train_labels = standard_scaler.transform(data.iloc[:100, 1:].to_numpy())\n",
    "# train_data.head(20)\n",
    "\n",
    "tokenized_input = tokenizer(text=train_titles.tolist(),\n",
    "                            add_special_tokens=True,\n",
    "                            padding='longest',\n",
    "                            return_attention_mask=True)\n",
    "                        \n",
    "\n",
    "# Creation of TensorDataset\n",
    "train_inputs = torch.tensor(tokenized_input['input_ids'])\n",
    "train_masks = torch.tensor(tokenized_input['attention_mask'])\n",
    "train_labels = torch.tensor(train_labels)\n",
    "train_dataset = TensorDataset(train_inputs, train_masks, train_labels)\n"
   ]
  },
  {
   "cell_type": "code",
   "execution_count": 8,
   "metadata": {},
   "outputs": [
    {
     "name": "stdout",
     "output_type": "stream",
     "text": [
      "cpu\n",
      "epoch 0 --------\n",
      "batch 0\n",
      "batch 1\n",
      "batch 2\n",
      "batch 3\n",
      "epoch 1 --------\n",
      "batch 0\n",
      "batch 1\n",
      "batch 2\n",
      "batch 3\n",
      "epoch 2 --------\n",
      "batch 0\n",
      "batch 1\n",
      "batch 2\n",
      "batch 3\n",
      "epoch 3 --------\n",
      "batch 0\n",
      "batch 1\n",
      "batch 2\n",
      "batch 3\n",
      "epoch 4 --------\n",
      "batch 0\n",
      "batch 1\n",
      "batch 2\n",
      "batch 3\n"
     ]
    }
   ],
   "source": [
    "# -------------------- TRAINING --------------------\n",
    "\n",
    "batch_size = 25\n",
    "train_dataloader = DataLoader(train_dataset, batch_size=batch_size, shuffle=True)\n",
    "\n",
    "if torch.cuda.is_available():\n",
    "    device = torch.device(\"cuda\")\n",
    "else:\n",
    "    device = torch.device(\"cpu\")\n",
    "\n",
    "print(device)\n",
    "model.to(device)\n",
    "\n",
    "loss_fn = nn.MSELoss()\n",
    "# this learning rate was used in original BERT paper\n",
    "optimizer = optim.SGD(model.parameters(), lr=5e-5)\n",
    "\n",
    "loss_log = []\n",
    "epochs = 5\n",
    "for epoch in range(epochs):\n",
    "    print(f\"epoch {epoch} --------\")\n",
    "    model.train()\n",
    "    for step, batch in enumerate(train_dataloader):\n",
    "        print(f\"batch {step}\")\n",
    "        inputs, masks, labels = tuple(row.to(device) for row in batch)\n",
    "        model.zero_grad()\n",
    "        outputs = model.forward(inputs, masks)\n",
    "        loss = loss_fn(outputs.squeeze(), labels.squeeze())\n",
    "        loss_log.append(loss.item())\n",
    "        loss.backward()\n",
    "        optimizer.step()\n"
   ]
  },
  {
   "cell_type": "code",
   "execution_count": 9,
   "metadata": {},
   "outputs": [
    {
     "data": {
      "image/png": "[encoded data removed]",
      "text/plain": [
       "<Figure size 640x480 with 1 Axes>"
      ]
     },
     "metadata": {},
     "output_type": "display_data"
    }
   ],
   "source": [
    "# ------------ PLOTS ---------------\n",
    "\n",
    "plt.plot(range(len(loss_log)), loss_log)\n",
    "plt.show()\n"
   ]
  }
 ],
 "metadata": {
  "interpreter": {
   "hash": "89bbfe0f2eb9110b73a18860bc5e254496a9982a8518159c028b1830d5097eca"
  },
  "kernelspec": {
   "display_name": "Python 3.10.2 64-bit ('spotify_venv')",
   "language": "python",
   "name": "python3"
  },
  "language_info": {
   "codemirror_mode": {
    "name": "ipython",
    "version": 3
   },
   "file_extension": ".py",
   "mimetype": "text/x-python",
   "name": "python",
   "nbconvert_exporter": "python",
   "pygments_lexer": "ipython3",
   "version": "3.10.2"
  },
  "orig_nbformat": 4
 },
 "nbformat": 4,
 "nbformat_minor": 2
}
