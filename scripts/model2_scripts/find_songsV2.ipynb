{
 "cells": [
  {
   "attachments": {},
   "cell_type": "markdown",
   "metadata": {},
   "source": [
    "# Model 2 Version 2 - Creating a Ranked List using a given playlist title and commonly shared Songs."
   ]
  },
  {
   "cell_type": "code",
   "execution_count": null,
   "metadata": {},
   "outputs": [],
   "source": [
    "#Imports all necessary dependencies\n",
    "import matplotlib.pyplot as plt\n",
    "import numpy as np\n",
    "import pandas as pd\n",
    "import sqlite3\n",
    "import json\n",
    "\n",
    "def id_from_uri(uri: str):\n",
    "    \"\"\"Helper method to get the ID from a URI string like so:\n",
    "    URI: 'spotify:artist:012345...'\n",
    "    ID: '012345...'\n",
    "    \"\"\"\n",
    "    return uri.split(':')[2]\n",
    "def get_songs_title_from_playlist_slice(slice_json, playListName):\n",
    "    \"\"\"Get the list of songs (IDs) and the title of a playlist\n",
    "    given the slice JSON its from and the playlist's index.\n",
    "    \"\"\"\n",
    "    listOfSongIDs = list()\n",
    "    for x in range(0,1000):   \n",
    "        #Goes through each playhlist and determines if its relevant\n",
    "        playlist_json = slice_json['playlists'][x]\n",
    "        #Gets list of songs from Top Hits playlist WILL CHANGE THIS ONCE WE HAVE PLAYLIST IDS\n",
    "        if (playlist_json['name'].lower() == playListName.lower()):\n",
    "            listOfSongIDs.extend([id_from_uri(track['track_uri']) for track in playlist_json['tracks']])\n",
    "    return listOfSongIDs\n",
    "        \n",
    "#Intializes file name data variables\n",
    "slice_lower = 0\n",
    "slice_upper = 999\n",
    "listOfSongIDs = list() #List that contains the list of song ids associated with the playlists\n",
    "while(slice_upper <= 999999):\n",
    "    fileName = f\"../../data/playlist/mpd.slice.{slice_lower}-{slice_upper}.json\" #Creates the file name for the json file we are analyzing\n",
    "    #Opens the json file and load the slice into a data variable\n",
    "    with open(fileName) as testSlice:\n",
    "        slice_json = json.load(testSlice)\n",
    "    listOfSongIDs.extend(get_songs_title_from_playlist_slice(slice_json, playListName=\"Top Hits\")) #Gets list of Song IDs from the playlist\n",
    "    slice_lower += 1000 #Increments lower bound of slice to update file name\n",
    "    slice_upper += 1000 #Increments upper bound of slice to update the file name\n",
    "print(len(listOfSongIDs))\n"
   ]
  },
  {
   "attachments": {},
   "cell_type": "markdown",
   "metadata": {},
   "source": [
    "Now that we have obtained the list of Song IDS from the relevant playlist. We now create a ranked list with the top K song ID's relevant to the playlist. We will be ranking the list in terms of the songs appearance in these playlists."
   ]
  },
  {
   "cell_type": "code",
   "execution_count": null,
   "metadata": {},
   "outputs": [],
   "source": [
    "songDict = {} #Dictionary that contains the number of occurences for each song.\n",
    "#Goes through the list of song ids and keeps track the number of occurences for each song.\n",
    "for songID in listOfSongIDs:\n",
    "    if songID in songDict.keys():\n",
    "        songDict[songID] = songDict[songID] + 1 #increments the song ID occurence counter by 1 if the song id has been found\n",
    "    else:\n",
    "        songDict[songID] = 1 #Intializes the new key and value for the new song id.\n",
    "#Gets the contents of the dictionary and formulates it into a list of tuples.\n",
    "rankedsongsList = list(songDict.items())\n",
    "#Sorts the song id list by the most occurences to the least amount of occurences.\n",
    "rankedsongsList = sorted(rankedsongsList, key=lambda occurence: occurence[1], reverse=True)\n",
    "print(rankedsongsList)"
   ]
  }
 ],
 "metadata": {
  "kernelspec": {
   "display_name": "Python 3",
   "language": "python",
   "name": "python3"
  },
  "language_info": {
   "codemirror_mode": {
    "name": "ipython",
    "version": 3
   },
   "file_extension": ".py",
   "mimetype": "text/x-python",
   "name": "python",
   "nbconvert_exporter": "python",
   "pygments_lexer": "ipython3",
   "version": "3.11.3"
  },
  "orig_nbformat": 4
 },
 "nbformat": 4,
 "nbformat_minor": 2
}
