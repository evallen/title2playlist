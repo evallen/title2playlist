{
 "cells": [
  {
   "attachments": {},
   "cell_type": "markdown",
   "metadata": {},
   "source": [
    "# Model 2 Version 2 - Creating a Ranked List using a given playlist title and commonly shared Songs."
   ]
  },
  {
   "cell_type": "code",
   "execution_count": 10,
   "metadata": {},
   "outputs": [
    {
     "name": "stdout",
     "output_type": "stream",
     "text": [
      "11231\n"
     ]
    }
   ],
   "source": [
    "#Imports all necessary dependencies\n",
    "import matplotlib.pyplot as plt\n",
    "import numpy as np\n",
    "import pandas as pd\n",
    "import sqlite3\n",
    "import json\n",
    "\n",
    "def id_from_uri(uri: str):\n",
    "    \"\"\"Helper method to get the ID from a URI string like so:\n",
    "    URI: 'spotify:artist:012345...'\n",
    "    ID: '012345...'\n",
    "    \"\"\"\n",
    "    return uri.split(':')[2]\n",
    "def get_songs_from_playlist_slice(connection: sqlite3.Connection, playlistIDs):\n",
    "    \"\"\"Get the list of songs (IDs) from a list of playlist IDS.\n",
    "    \"\"\"\n",
    "    songQuery = \"SELECT songID FROM songs WHERE playlistID = ?\"\n",
    "    foundSongIDs = [] #List containing the songs found in the playlists\n",
    "    for playlist in playlistIDs:\n",
    "        songQuery = f\"SELECT songID FROM songs WHERE playlistID = '{playlist}'\"\n",
    "        desiredSongIDs = pd.read_sql(songQuery, song_conn)\n",
    "        [foundSongIDs.append(song) for song in desiredSongIDs.values.flatten().tolist()] #converts from pandas dataframe to a list\n",
    "    return foundSongIDs\n",
    "    \n",
    "'''\n",
    "#Code that uses JSON slices\n",
    "      \n",
    "#Intializes file name data variables\n",
    "slice_lower = 0\n",
    "slice_upper = 999\n",
    "listOfSongIDs = list() #List that contains the list of song ids associated with the playlists\n",
    "while(slice_upper <= 999999):\n",
    "    fileName = f\"../../data/playlist/mpd.slice.{slice_lower}-{slice_upper}.json\" #Creates the file name for the json file we are analyzing\n",
    "    #Opens the json file and load the slice into a data variable\n",
    "    with open(fileName) as testSlice:\n",
    "        slice_json = json.load(testSlice)\n",
    "    listOfSongIDs.extend(get_songs_from_playlist_slice(slice_json, playListName=\"Top Hits\")) #Gets list of Song IDs from the playlist\n",
    "    slice_lower += 1000 #Increments lower bound of slice to update file name\n",
    "    slice_upper += 1000 #Increments upper bound of slice to update the file name\n",
    "print(len(listOfSongIDs))\n",
    "'''\n",
    "\n",
    "#Code that uses playlist_song.db\n",
    "#Forms a connection with the database\n",
    "song_conn = sqlite3.Connection(\"../../data/playlist_song.db\")\n",
    "songCur = song_conn.cursor()\n",
    "#Query for getting playlist IDs TO BE REMOVED\n",
    "playlistQuery = \"SELECT playlistID FROM songs WHERE LOWER(playlistName) = LOWER('Top Hits')\"\n",
    "#Gets desired playlist ID's list\n",
    "desiredPlaylistsID = pd.read_sql(playlistQuery,song_conn)\n",
    "desiredPlaylistsID = desiredPlaylistsID.values.flatten().tolist() #converts from pandas dataframe to a list\n",
    "desiredPlaylistsID = list(set(desiredPlaylistsID)) #Gets rid of repeated values\n",
    "listOfSongIDs = get_songs_from_playlist_slice(song_conn, desiredPlaylistsID) # Retrieves a list of song ID's from the given playlist IDs\n",
    "# listOfSongIDs.extend(listOfSongIDs)\n",
    "print(len(listOfSongIDs))"
   ]
  },
  {
   "attachments": {},
   "cell_type": "markdown",
   "metadata": {},
   "source": [
    "Now that we have obtained the list of Song IDS from the relevant playlist. We now create a ranked list with the top K song ID's relevant to the playlist. We will be ranking the list in terms of the songs appearance in these playlists."
   ]
  },
  {
   "cell_type": "code",
   "execution_count": 37,
   "metadata": {},
   "outputs": [],
   "source": [
    "def generate_songs(playlist_ids, num):\n",
    "    ''' Generate <num> songs from a list of playlist IDs '''\n",
    "    all_songs = get_songs_from_playlist_slice(song_conn, playlist_ids)\n",
    "    songDict = {}\n",
    "    for songID in all_songs:\n",
    "        if songID in songDict.keys():\n",
    "            songDict[songID] = songDict[songID] + 1 #increments the song ID occurence counter by 1 if the song id has been found\n",
    "        else:\n",
    "            songDict[songID] = 1 #Intializes the new key and value for the new song id.\n",
    "    #Gets the contents of the dictionary and formulates it into a list of tuples.\n",
    "    rankedsongsList = list(songDict.items())\n",
    "    #Sorts the song id list by the most occurences to the least amount of occurences.\n",
    "    rankedsongsList = sorted(rankedsongsList, key=lambda occurence: occurence[1], reverse=True)\n",
    "    # print(rankedsongsList)\n",
    "    # Top 10 songs\n",
    "    for i in range(num):\n",
    "        songQuery = f\"SELECT * FROM songs WHERE songID = '{rankedsongsList[i][0]}' LIMIT 1\"\n",
    "        topSongs = pd.read_sql(songQuery, song_conn)\n",
    "        print(f\"{i}: {topSongs['songName'].values.squeeze()} by {topSongs['artistName'].values.squeeze()}\")\n",
    "    # print(topSongs['songID'].values)\n",
    "    \n"
   ]
  },
  {
   "cell_type": "code",
   "execution_count": 39,
   "metadata": {},
   "outputs": [
    {
     "name": "stdout",
     "output_type": "stream",
     "text": [
      "0: Closer by The Chainsmokers\n",
      "1: Sorry by Justin Bieber\n",
      "2: Cold Water (feat. Justin Bieber & MØ) by Major Lazer\n",
      "3: Let Me Love You by DJ Snake\n",
      "4: Don't Let Me Down by The Chainsmokers\n",
      "5: Treat You Better by Shawn Mendes\n",
      "6: Roses by The Chainsmokers\n",
      "7: Love Yourself by Justin Bieber\n",
      "8: One Dance by Drake\n",
      "9: Work from Home by Fifth Harmony\n"
     ]
    }
   ],
   "source": [
    "generate_songs(desiredPlaylistsID, 10)"
   ]
  }
 ],
 "metadata": {
  "kernelspec": {
   "display_name": "Python 3",
   "language": "python",
   "name": "python3"
  },
  "language_info": {
   "codemirror_mode": {
    "name": "ipython",
    "version": 3
   },
   "file_extension": ".py",
   "mimetype": "text/x-python",
   "name": "python",
   "nbconvert_exporter": "python",
   "pygments_lexer": "ipython3",
   "version": "3.10.2"
  },
  "orig_nbformat": 4
 },
 "nbformat": 4,
 "nbformat_minor": 2
}
