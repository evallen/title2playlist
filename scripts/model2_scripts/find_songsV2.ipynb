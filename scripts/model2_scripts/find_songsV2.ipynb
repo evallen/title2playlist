{
 "cells": [
  {
   "attachments": {},
   "cell_type": "markdown",
   "metadata": {},
   "source": [
    "# Model 2 Version 2 - Creating a Ranked List using a given playlist title and commonly shared Songs."
   ]
  },
  {
   "cell_type": "code",
   "execution_count": 2,
   "metadata": {},
   "outputs": [
    {
     "name": "stdout",
     "output_type": "stream",
     "text": [
      "144\n"
     ]
    }
   ],
   "source": [
    "#Imports all necessary dependencies\n",
    "import matplotlib.pyplot as plt\n",
    "import numpy as np\n",
    "import pandas as pd\n",
    "import sqlite3\n",
    "import json\n",
    "\n",
    "def id_from_uri(uri: str):\n",
    "    \"\"\"Helper method to get the ID from a URI string like so:\n",
    "    URI: 'spotify:artist:012345...'\n",
    "    ID: '012345...'\n",
    "    \"\"\"\n",
    "    return uri.split(':')[2]\n",
    "def get_songs_title_from_playlist_slice(slice_json, playListName):\n",
    "    \"\"\"Get the list of songs (IDs) and the title of a playlist\n",
    "    given the slice JSON its from and the playlist's index.\n",
    "    \"\"\"\n",
    "    listOfSongIDs = list()\n",
    "    for x in range(0,1000):   \n",
    "        #Goes through each playhlist and determines if its relevant\n",
    "        playlist_json = slice_json['playlists'][x]\n",
    "        #Gets list of songs from Top Hits playlist WILL CHANGE THIS ONCE WE HAVE PLAYLIST IDS\n",
    "        if (playlist_json['name'].lower() == playListName.lower()):\n",
    "            listOfSongIDs.extend([id_from_uri(track['track_uri']) for track in playlist_json['tracks']])\n",
    "    return listOfSongIDs\n",
    "        \n",
    "#Intializes file name data variables\n",
    "slice_lower = 0\n",
    "slice_upper = 999\n",
    "listOfSongIDs = list() #List that contains the list of song ids associated with the playlists\n",
    "while(slice_upper <= 999):\n",
    "    fileName = f\"../../data/playlist/mpd.slice.{slice_lower}-{slice_upper}.json\" #Creates the file name for the json file we are analyzing\n",
    "    #Opens the json file and load the slice into a data variable\n",
    "    with open(fileName) as testSlice:\n",
    "        slice_json = json.load(testSlice)\n",
    "    listOfSongIDs.extend(get_songs_title_from_playlist_slice(slice_json, playListName=\"Top Hits\")) #Gets list of Song IDs from the playlist\n",
    "    slice_lower += 1000 #Increments lower bound of slice to update file name\n",
    "    slice_upper += 1000 #Increments upper bound of slice to update the file name\n",
    "print(len(listOfSongIDs))\n"
   ]
  },
  {
   "attachments": {},
   "cell_type": "markdown",
   "metadata": {},
   "source": [
    "Now that we have obtained the list of Song IDS from the relevant playlist. We now create a ranked list with the top K song ID's relevant to the playlist. We will be ranking the list in terms of the songs appearance in these playlists."
   ]
  },
  {
   "cell_type": "code",
   "execution_count": 3,
   "metadata": {},
   "outputs": [
    {
     "name": "stdout",
     "output_type": "stream",
     "text": [
      "[('4rpzPAbwJboZQw2p9T5T3f', 3), ('7x5xYW5W42OGPAdHUyyguy', 2), ('6O6M7pJLABmfBRoGZMu76Y', 2), ('70cTMpcgWMcR18t9MRJFjB', 2), ('0QsvXIfqM0zZoerQfsI9lm', 2), ('6hmhG1b4LEyNuashVvuIAo', 2), ('4OZEu0Vwq0RB2LAq14v99n', 2), ('3pzjHKrQSvXGHQ98dx18HI', 1), ('2d8JP84HNLKhmd6IYOoupQ', 1), ('7vFoFDWqTX0mHzLfrF1Cfy', 1), ('5pfJsMwoRYKampPay8amX0', 1), ('2K87XMYnUMqLcX3zvtAF4G', 1), ('66hayvUbTotekKU3H4ta1f', 1), ('4fixebDZAVToLbUCuEloa2', 1), ('235LXPXfi0SmOaS9TaCh3c', 1), ('4jwvDUjhfE5PBLq6e4m9i4', 1), ('1nZzRJbFvCEct3uzu04ZoL', 1), ('38iU2jg98IZZEIJPrP7aWD', 1), ('4kgsK0fftHtg9gZOzkU5T2', 1), ('2vW5tqS1EFel9yYOQ7WZmE', 1), ('7oGZAicScQt96OAW4AruYy', 1), ('5xdVqHtFS0eLuNp4Z8Wbpa', 1), ('5a7NdkF09AfD0H607eiOkX', 1), ('5y6pj7OeBFF0CVgZKhRbOG', 1), ('6Zo3wgDE076K2AuiGZF3CS', 1), ('2TRFIQpTqq12xGpFJEr0Ft', 1), ('4Z3qm2aWGTJuJKnv3EWwyD', 1), ('3NLnwwAQbbFKcEcV8hDItk', 1), ('1CvhKmrutTAta5awpJcFDn', 1), ('0wsXdby1T3PWLauIkGUZzg', 1), ('1WP1r7fuvRqZRnUaTi2I1Q', 1), ('4kbj5MwxO1bq9wjT5g9HaA', 1), ('3kSXn1osC89W8JcPLozTzs', 1), ('74Xdx4ezYQQlg8wKswq25T', 1), ('46GGxd8TVRt6FjUBfCavVT', 1), ('2Kgjd9G808FhUDRhS2gidG', 1), ('5uHYcK0nbEYgRaFTY5BqnP', 1), ('2bnDTGikdoO8CwzlAPyBHR', 1), ('6jizk5lOUnfpaZXYMdfeC6', 1), ('7s0lDK7y3XLmI7tcsRAbW0', 1), ('0XJDfLHO7C6b0GpjeB5mpu', 1), ('53AuxddsgPSlqM619nJhSd', 1), ('0yhPEz5KxlDwckGJaMlZqM', 1), ('4urmOSZcGQVcGz3rpMzy3y', 1), ('34Jeq8ktRzyOW1uw40InVy', 1), ('5MsZIaCYY6Tsdph0LiB0hE', 1), ('6pf9datdAtxQj4EU8UYHSx', 1), ('2dyyOwe0KxTZTJjjXDeLmU', 1), ('2aFiaMXmWsM3Vj72F9ksBl', 1), ('32OlwWuMpZ6b0aN2RZOeMS', 1), ('4G2Hbfwvn3oH7LxxPXjjGn', 1), ('0vbbhcA6okLzvsy6WSTlLg', 1), ('7yq4Qj7cqayVTp3FF9CWbm', 1), ('5jE48hhRu8E6zBDPRSkEq7', 1), ('6RcQOut9fWL6FSqeIr5M1r', 1), ('69bp2EbF7Q2rqc5N3ylezZ', 1), ('5NUlOzzMdoIABFTnhizCQa', 1), ('2S5LNtRVRPbXk01yRQ14sZ', 1), ('1SfoXU9q0EZtlgSLlrYBju', 1), ('4Y7XAxTANhu3lmnLAzhWJW', 1), ('4gbVRS8gloEluzf0GzDOFc', 1), ('16pwlVsypm4aDKMhXdOuXg', 1), ('494OU6M7NOf4ICYb4zWCf5', 1), ('5g7sDjBhZ4I3gcFIpkrLuI', 1), ('232nQnyelarnhjBOB6JSJd', 1), ('3cHyrEgdyYRjgJKSOiOtcS', 1), ('1oew3nFNY3vMacJAsvry0S', 1), ('0qOnSQQF0yzuPWsXrQ9paz', 1), ('1XGmzt0PVuFgQYYnV2It7A', 1), ('6cpk00i5TxCqSeqNi2HuIe', 1), ('0HnaqUxvHP5LaWdmWwJpiS', 1), ('1klGbW5a9qTBFUjFfddbmU', 1), ('495O1Affo7AurEPQcvcr18', 1), ('2BaXRCVgn621xHOGoFSuW5', 1), ('5edBgVtRD0fvWk140Sl21T', 1), ('0FDzzruyVECATHXKHFs9eJ', 1), ('2Oehrcv4Kov0SuIgWyQY9e', 1), ('07BAaeVwEwkzQrE3qJxJ5S', 1), ('58jx3tTuDuzHysC77c0AQd', 1), ('37f4ITSlgPX81ad2EvmVQr', 1), ('7jDOx9VTvxq0S9z8RjQ7lv', 1), ('3WKg25vrbjJlkhsgl2W4p3', 1), ('6Knv6wdA0luoMUuuoYi2i1', 1), ('7yO48FWUkqsrdxrwkGcnwl', 1), ('6CLx4X6ovfxFwcBbr5vv59', 1), ('7wMq5n8mYSKlQIGECKUgTX', 1), ('26rdOwwjC2UnweK3xeS58u', 1), ('1hWYT0w2R0J19rlVkiez7X', 1), ('7pNC5ZIKtwUK0ReSpM3P9f', 1), ('7pYfyrMNPn3wtoCyqcTVoI', 1), ('5U8hKxSaDXB8cVeLFQjvwx', 1), ('3KYiA4vq6RPO1dE2XROXd8', 1), ('0J6mQxEZnlRt9ymzFntA6z', 1), ('3ZFTkvIE7kyPt6Nu3PEa7V', 1), ('0XUfyU2QviPAs6bxSpXYG4', 1), ('6AxCr5G75R5rqyNCYWVpTo', 1), ('2oENJa1T33GJ0w8dC167G4', 1), ('2HHtWyy5CgaQbC7XSoOb0e', 1), ('5Q0Nhxo0l2bP3pNjpGJwV1', 1), ('0CAfXk7DXMnon4gLudAp7J', 1), ('1Je1IMUlBXcx1Fz0WE7oPT', 1), ('3uoQULcUWfnt6nc6J7Vgai', 1), ('5jPyymL6gQyJNMMnMX1IMx', 1), ('4zIaXqKCXZs02eB6jEe5Mf', 1), ('3FE6Xwjn3z8W3wlhIgpFUD', 1), ('3zByVQLvdXUaDTubfWkpCk', 1), ('4lLtanYk6tkMvooU0tWzG8', 1), ('4wCmqSrbyCgxEXROQE6vtV', 1), ('3nSiB5WCF2pmRQrYSsteHv', 1), ('3CBWtVFHhxeaHVm4VverBG', 1), ('2ECjGAr1U1jUZ5Rp3Bx49v', 1), ('5tf1VVWniHgryyumXyJM7w', 1), ('5YHR8wBR5jXfGtP766NiAT', 1), ('6LU4Z8hHdaHkQa2uQfpsu5', 1), ('0WZVGXO8FYpK8v1IDxlOyE', 1), ('5goDw1qZDXIcaABdmsmFmJ', 1), ('59WgopKOlHZ5Bh3RDPMspq', 1), ('3E3pWLixkFdKw7Ylj1NFoc', 1), ('3MOECVkNshqHYTPt5DZcdN', 1), ('7Hv89f7Dpm5Hce1XkBbjQZ', 1), ('0Ji2g9AlYLVHAMG5PJoHPU', 1), ('1dzQoRqT5ucxXVaAhTcT0J', 1), ('7jk7gqyEonmVVYahZN5zhW', 1), ('5robRLVa4HUE1k5sb25z2X', 1), ('0L7loeTIg6akW84aEQZpCT', 1), ('5SI3XgHKxLpriNUgoJ5kg7', 1), ('7fPHfBCyKE3aVCBjE4DAvl', 1), ('2YlZnw2ikdb837oKMKjBkW', 1), ('12REd1n8PeiHHWOh066tpr', 1), ('2Z8WuEywRWYTKe1NybPQEW', 1), ('1OAiWI2oPmglaOiv9fdioU', 1), ('3lSDIJ2abCrOdDJ6pshUap', 1), ('17Fd6Yb7mSbinKG8LoWfFl', 1), ('25khomWgBVamSdKw7hzm3l', 1), ('5TvE3pk05pyFIGdSY9j4DJ', 1), ('6j7hih15xG2cdYwIJnQXsq', 1)]\n"
     ]
    }
   ],
   "source": [
    "songDict = {} #Dictionary that contains the number of occurences for each song.\n",
    "#Goes through the list of song ids and keeps track the number of occurences for each song.\n",
    "for songID in listOfSongIDs:\n",
    "    if songID in songDict.keys():\n",
    "        songDict[songID] = songDict[songID] + 1 #increments the song ID occurence counter by 1 if the song id has been found\n",
    "    else:\n",
    "        songDict[songID] = 1 #Intializes the new key and value for the new song id.\n",
    "#Gets the contents of the dictionary and formulates it into a list of tuples.\n",
    "rankedsongsList = list(songDict.items())\n",
    "#Sorts the song id list by the most occurences to the least amount of occurences.\n",
    "rankedsongsList = sorted(rankedsongsList, key=lambda occurence: occurence[1], reverse=True)\n",
    "print(rankedsongsList)"
   ]
  }
 ],
 "metadata": {
  "kernelspec": {
   "display_name": "Python 3",
   "language": "python",
   "name": "python3"
  },
  "language_info": {
   "codemirror_mode": {
    "name": "ipython",
    "version": 3
   },
   "file_extension": ".py",
   "mimetype": "text/x-python",
   "name": "python",
   "nbconvert_exporter": "python",
   "pygments_lexer": "ipython3",
   "version": "3.11.3"
  },
  "orig_nbformat": 4
 },
 "nbformat": 4,
 "nbformat_minor": 2
}
