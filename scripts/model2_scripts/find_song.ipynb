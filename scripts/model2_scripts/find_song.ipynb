{
 "cells": [
  {
   "attachments": {},
   "cell_type": "markdown",
   "metadata": {},
   "source": [
    "# Model 2 Version 1 - Clustering Using Average Song and Playlist Features Values.\n",
    "Our first attempt at model 2 uses the assumption that the data is Gaussian and perform KNN with the feature values of each song."
   ]
  },
  {
   "attachments": {},
   "cell_type": "markdown",
   "metadata": {},
   "source": [
    "This code block imports all necessary libraries and fetches the average feature values given a title for the playlist."
   ]
  },
  {
   "cell_type": "code",
   "execution_count": 1,
   "metadata": {},
   "outputs": [
    {
     "name": "stdout",
     "output_type": "stream",
     "text": [
      "[ 8.53018412e-02  1.20975877e-01  6.68784314e-01  1.44455019e-01\n",
      "  2.22076627e+05  2.57998910e+04  7.77960784e-01  1.28349049e-01\n",
      "  6.87605098e-04  3.61208866e-03  1.87264706e-01  1.47960230e-01\n",
      " -4.90845098e+00  1.33224483e+00  7.05882353e-01  4.60178993e-01\n",
      "  1.04466667e-01  8.72788902e-02  1.20593255e+02  3.19770345e+01\n",
      "  4.00000000e+00  0.00000000e+00  6.45470588e-01  1.94765434e-01]\n"
     ]
    }
   ],
   "source": [
    "import matplotlib.pyplot as plt\n",
    "import numpy as np\n",
    "import pandas as pd\n",
    "import sqlite3\n",
    "import json\n",
    "\"\"\"\n",
    "#Connects to the title dataset\n",
    "title_conn = sqlite3.Connection(\"../../data/title/title_dataset.db\")\n",
    "titleCur = title_conn.cursor()\n",
    "# Selects database entry titles with title run it\n",
    "data = titleCur.execute(\"SELECT * FROM TITLES WHERE title = 'run it'\")\n",
    "listOfResults = data.fetchall()\n",
    "averageFeatures = np.zeros(24) #Datatype that represents the average feature\n",
    "#Calculates the sum of all results\n",
    "for result in listOfResults:\n",
    "    resultList = list(result) #Converts tuple into list\n",
    "    resultList.pop(0) #Removes title from list\n",
    "    resultArray = np.asarray(resultList) #converts list to numpy array\n",
    "    averageFeatures = np.add(resultArray,averageFeatures) #Sums all features\n",
    "averageFeatures = np.divide(averageFeatures, len(listOfResults)) #Calulates average feature value\n",
    "\"\"\"\n",
    "FEATURE_NAMES = [\n",
    "    \"acousticness\",\n",
    "    \"danceability\",\n",
    "    \"duration_ms\",\n",
    "    \"energy\",\n",
    "    \"instrumentalness\",\n",
    "    \"liveness\",\n",
    "    \"loudness\",\n",
    "    \"mode\",\n",
    "    \"speechiness\",\n",
    "    \"tempo\",\n",
    "    \"time_signature\",\n",
    "    \"valence\"\n",
    "]\n",
    "def process_playlist(playlist: dict, song_conn: sqlite3.Connection):\n",
    "    \"\"\"Process a single playlist from its JSON dictionary.\"\"\"\n",
    "    ids = [id_from_uri(track['track_uri']) for track in playlist['tracks']]\n",
    "\n",
    "    # Queries for all the given songs. \n",
    "    # The interpolated bit expands to (?,?,?,?,...,?) for as many ids as we have,\n",
    "    # so this is still a prepared statement and there is no SQL injection vulnerability.\n",
    "    songs = pd.read_sql(\n",
    "        \"SELECT * FROM songs WHERE id IN ({0})\".format(','.join('?' for _ in ids)),\n",
    "        song_conn,\n",
    "        params=ids,\n",
    "    )\n",
    "\n",
    "    means = songs[FEATURE_NAMES].mean(axis=0).add_suffix(\"_mean\")\n",
    "    sds = songs[FEATURE_NAMES].std(axis=0).add_suffix(\"_sd\")\n",
    "\n",
    "    playlist_df = pd.concat((means, sds), axis=0)\n",
    "    return playlist_df\n",
    "def id_from_uri(uri: str):\n",
    "    \"\"\"Helper method to get the ID from a URI string like so:\n",
    "    URI: 'spotify:artist:012345...'\n",
    "    ID: '012345...'\n",
    "    \"\"\"\n",
    "    return uri.split(':')[2]\n",
    "def get_songs_title_from_playlist_slice(slice_json, index):\n",
    "    \"\"\"Get the list of songs (IDs) and the title of a playlist\n",
    "    given the slice JSON its from and the playlist's index.\n",
    "    \"\"\"\n",
    "    playlist_json = slice_json['playlists'][index]\n",
    "    return [id_from_uri(track['track_uri']) for track in playlist_json['tracks']], \\\n",
    "           playlist_json['name']\n",
    "\n",
    "with open('../../data/playlist/mpd.slice.0-999.json') as testSlice:\n",
    "    slice_json = json.load(testSlice)\n",
    "\n",
    "listOfSongIDs = get_songs_title_from_playlist_slice(slice_json, 0) #Gets list of Song IDs from the playlist\n",
    "song_conn = sqlite3.Connection(\"../../data/song/song_dataset.db\")\n",
    "overall_df = pd.DataFrame()\n",
    "listOfPlaylists = slice_json['playlists']\n",
    "playlist_row = process_playlist(listOfPlaylists[0], song_conn)\n",
    "selected_columns = ['acousticness_mean', 'acousticness_sd', 'danceability_mean', 'danceability_sd','duration_ms_mean','duration_ms_sd', 'energy_mean', 'energy_sd', 'instrumentalness_mean', 'instrumentalness_sd', 'liveness_mean', 'liveness_sd', 'loudness_mean', 'loudness_sd', 'mode_mean', 'mode_sd', 'speechiness_mean', 'speechiness_sd', 'tempo_mean','tempo_sd', 'time_signature_mean', 'time_signature_sd', 'valence_mean', 'valence_sd']\n",
    "averageFeatures = (playlist_row[selected_columns]).values\n",
    "print(averageFeatures)\n",
    "\n",
    "# Load a slice of the playlists\n",
    "# Get the songs and title of one of them by indexing into it with the helper function\n",
    "# Query the songs database to get the features of the songs\n",
    "# Compute mean, std. dev. again\n"
   ]
  },
  {
   "attachments": {},
   "cell_type": "markdown",
   "metadata": {},
   "source": [
    "The following block of code retrieves the songs in the song dataset that are within the average and standard deviation values for each feature determined in the previous coding block. In other words it is determining the cluster of songs that are relevant to our given playlist."
   ]
  },
  {
   "cell_type": "code",
   "execution_count": 2,
   "metadata": {},
   "outputs": [],
   "source": [
    "#Connects to the Song dataset\n",
    "song_conn = sqlite3.Connection(\"../../data/song/song_dataset.db\")\n",
    "songCur = song_conn.cursor()\n",
    "query = \"SELECT * FROM songs WHERE (acousticness BETWEEN ? AND ?) AND (danceability BETWEEN ? AND ?) AND (energy BETWEEN ? AND ?) AND (instrumentalness BETWEEN ? AND ?) AND (liveness BETWEEN ? AND ?) AND (loudness BETWEEN ? AND ?) AND (mode BETWEEN ? AND ?) AND (speechiness BETWEEN ? AND ?) AND (tempo BETWEEN ? AND ?) AND (time_signature BETWEEN ? AND ?) AND (valence BETWEEN ? AND ?) \"\n",
    "#Determines accousticness bounds\n",
    "accousticNessLower = averageFeatures[0] - averageFeatures[1]\n",
    "accousticNessUpper = averageFeatures[0] + averageFeatures[1]\n",
    "#Determines danceability bounds\n",
    "danceLower = averageFeatures[2] - averageFeatures[3]\n",
    "danceUpper = averageFeatures[2] + averageFeatures[3]\n",
    "#Determines energy bounds\n",
    "energyLower = averageFeatures[6] - averageFeatures[7]\n",
    "energyUpper = averageFeatures[6] + averageFeatures[7]\n",
    "#Determines instrumentalness bounds\n",
    "instrumentalnessLower = averageFeatures[8] - averageFeatures[9]\n",
    "instrumentalnessUpper = averageFeatures[8] + averageFeatures[9]\n",
    "#Determines liveness bounds\n",
    "livenessLower = averageFeatures[10] - averageFeatures[11]\n",
    "livenessUpper = averageFeatures[10] + averageFeatures[11]\n",
    "#Determines loudness bounds\n",
    "loudnessLower = averageFeatures[12] - averageFeatures[13]\n",
    "loudnessUpper = averageFeatures[12] + averageFeatures[13]\n",
    "#Determines mode bounds\n",
    "modeLower = averageFeatures[14] - averageFeatures[15]\n",
    "modeUpper = averageFeatures[14] + averageFeatures[15]\n",
    "#Determines speechiness bounds\n",
    "speechinessLower = averageFeatures[16] - averageFeatures[17]\n",
    "speechinessUpper = averageFeatures[16] + averageFeatures[17]\n",
    "#Determines tempo bounds\n",
    "tempoLower = averageFeatures[18] - averageFeatures[19]\n",
    "tempoUpper = averageFeatures[18] + averageFeatures[19]\n",
    "#Determines time signature bounds\n",
    "timeSigLower = averageFeatures[20] - averageFeatures[21]\n",
    "timeSigUpper = averageFeatures[20] + averageFeatures[21]\n",
    "#Determines valence signature bounds\n",
    "valenceLower = averageFeatures[22] - averageFeatures[23]\n",
    "valenceUpper = averageFeatures[22] + averageFeatures[23]\n",
    "#Executes the SQL query to retrieve data that are within bounds\n",
    "desiredSong = songCur.execute(query, (accousticNessLower,accousticNessUpper, danceLower, danceUpper,energyLower, energyUpper, instrumentalnessLower, instrumentalnessUpper, livenessLower, livenessUpper, loudnessLower, loudnessUpper, modeLower, modeUpper, speechinessLower, speechinessUpper, tempoLower, tempoUpper, timeSigLower, timeSigUpper, valenceLower, valenceUpper))\n",
    "data = pd.read_sql(query, song_conn, params=(accousticNessLower,accousticNessUpper, danceLower, danceUpper,energyLower, energyUpper, instrumentalnessLower, instrumentalnessUpper, livenessLower, livenessUpper, loudnessLower, loudnessUpper, modeLower, modeUpper, speechinessLower, speechinessUpper, tempoLower, tempoUpper, timeSigLower, timeSigUpper, valenceLower, valenceUpper))"
   ]
  },
  {
   "attachments": {},
   "cell_type": "markdown",
   "metadata": {},
   "source": [
    "Using the cluster that we have determined to be appropriate, we analyze each song in the cluster and determine a ranked list of songs sorting from closest song to farthest song."
   ]
  },
  {
   "cell_type": "code",
   "execution_count": 3,
   "metadata": {},
   "outputs": [
    {
     "name": "stdout",
     "output_type": "stream",
     "text": [
      "[1.20975877e-01 1.44455019e-01 1.28349049e-01 3.61208866e-03\n",
      " 1.47960230e-01 1.33224483e+00 4.60178993e-01 8.72788902e-02\n",
      " 3.19770345e+01 1.00000000e-10 1.94765434e-01]\n",
      "[('2mqyzKOnCL4g2Tavpi7UlW', 0.9061428688601596), ('7f5XDgmeSqCNgpTAOSVRUh', 0.9147244493385711), ('3nPIWr2WnEdbc9P8hrkLbj', 0.9658335833143283), ('3tMyxF6Erg2AQPLTY9pMxx', 0.9697834988222916), ('6eolFkFTZmdai6b47dxKtJ', 0.9732246065890361), ('35BXOeMdVF2TnuEnfnJecW', 0.9796994670561486), ('4YMJTBzfR8dhdPE3wrguw6', 0.9899436554501699), ('40bxDmUIpgXDff9g1lPn2T', 0.9917430945648118), ('0KJmsQNMPf2rG5E1UbroBs', 0.9924239706111982), ('2KPL20JCgAADW3VTGlfmJQ', 0.9998346920058268)]\n"
     ]
    }
   ],
   "source": [
    "#Extracts only the columns that contain the feature values of interest\n",
    "listOfColumns = ['acousticness','danceability','energy', 'instrumentalness', 'liveness', 'loudness', 'mode','speechiness', 'tempo', 'time_signature', 'valence']\n",
    "featureMatrix = data.loc[:, listOfColumns]\n",
    "#Converts the pandas datafram into a numpy array.\n",
    "featureMatrix = featureMatrix.to_numpy() \n",
    "#Contains the mean values for all features\n",
    "meanMatrix = np.array([averageFeatures[0], averageFeatures[2], averageFeatures[6], averageFeatures[8], averageFeatures[10], averageFeatures[12], averageFeatures[14], averageFeatures[16], averageFeatures[18], averageFeatures[20], averageFeatures[22]])\n",
    "#Contains the std deviation values for all features.\n",
    "stdDevMatrix = np.array([averageFeatures[1], averageFeatures[3], averageFeatures[7], averageFeatures[9], averageFeatures[11], averageFeatures[13], averageFeatures[15], averageFeatures[17], averageFeatures[19], averageFeatures[21], averageFeatures[23]])\n",
    "stdDevMatrix = stdDevMatrix.tolist()\n",
    "for i in range(len(stdDevMatrix)):\n",
    "    if stdDevMatrix[i] == 0:\n",
    "        stdDevMatrix[i] = 1e-10\n",
    "stdDevMatrix = np.array(stdDevMatrix)\n",
    "#Calculated distances from each song to center\n",
    "print(stdDevMatrix)\n",
    "distanceMatrix = np.subtract(featureMatrix, meanMatrix) # d - m\n",
    "distanceMatrix = np.divide(distanceMatrix, stdDevMatrix) # (d-m) / std deviation\n",
    "distanceMatrix = np.power(distanceMatrix, 2) #Squares the previous result\n",
    "distanceMatrix = np.sum(distanceMatrix, axis=1) #Sums over the entire row\n",
    "distanceMatrix = np.sqrt(distanceMatrix) #Square roots the result\n",
    "songIDList = data.loc[:, ['id']]\n",
    "songIDList = list(songIDList.values.flatten().tolist())\n",
    "rankedList = list(zip(songIDList, distanceMatrix))\n",
    "rankedList = sorted(rankedList, key=lambda distance: distance[1])\n",
    "print(rankedList[0:10])"
   ]
  }
 ],
 "metadata": {
  "kernelspec": {
   "display_name": "Python 3",
   "language": "python",
   "name": "python3"
  },
  "language_info": {
   "codemirror_mode": {
    "name": "ipython",
    "version": 3
   },
   "file_extension": ".py",
   "mimetype": "text/x-python",
   "name": "python",
   "nbconvert_exporter": "python",
   "pygments_lexer": "ipython3",
   "version": "3.11.3"
  },
  "orig_nbformat": 4
 },
 "nbformat": 4,
 "nbformat_minor": 2
}
