{
 "cells": [
  {
   "attachments": {},
   "cell_type": "markdown",
   "metadata": {},
   "source": [
    "This code block imports all necessary libraries and fetches the average feature values given a title for the playlist"
   ]
  },
  {
   "cell_type": "code",
   "execution_count": 20,
   "metadata": {},
   "outputs": [],
   "source": [
    "import matplotlib.pyplot as plt\n",
    "import numpy as np\n",
    "import pandas as pd\n",
    "import sqlite3\n",
    "#Connects to the title dataset\n",
    "title_conn = sqlite3.Connection(\"../../data/title/title_dataset.db\")\n",
    "titleCur = title_conn.cursor()\n",
    "# Selects database entry titles with title run it\n",
    "data = titleCur.execute(\"SELECT * FROM TITLES WHERE title = 'run it'\")\n",
    "listOfResults = data.fetchall()\n",
    "averageFeatures = np.zeros(24) #Datatype that represents the average feature\n",
    "#Calculates the sum of all results\n",
    "for result in listOfResults:\n",
    "    resultList = list(result) #Converts tuple into list\n",
    "    resultList.pop(0) #Removes title from list\n",
    "    resultArray = np.asarray(resultList) #converts list to numpy array\n",
    "    averageFeatures = np.add(resultArray,averageFeatures) #Sums all features\n",
    "averageFeatures = np.divide(averageFeatures, len(listOfResults)) #Calulates average feature value\n"
   ]
  },
  {
   "attachments": {},
   "cell_type": "markdown",
   "metadata": {},
   "source": [
    "Queries Songs in the dataset within the feature bounds provided in averageFeatures"
   ]
  },
  {
   "cell_type": "code",
   "execution_count": 21,
   "metadata": {},
   "outputs": [
    {
     "name": "stdout",
     "output_type": "stream",
     "text": [
      "24133\n"
     ]
    }
   ],
   "source": [
    "#Connects to the Song dataset\n",
    "song_conn = sqlite3.Connection(\"../../data/song/song_dataset.db\")\n",
    "songCur = song_conn.cursor()\n",
    "query = \"SELECT * FROM songs WHERE (acousticness BETWEEN ? AND ?) AND (danceability BETWEEN ? AND ?) AND (energy BETWEEN ? AND ?) AND (instrumentalness BETWEEN ? AND ?) AND (liveness BETWEEN ? AND ?) AND (loudness BETWEEN ? AND ?) AND (mode BETWEEN ? AND ?) AND (speechiness BETWEEN ? AND ?) AND (tempo BETWEEN ? AND ?) AND (time_signature BETWEEN ? AND ?) AND (valence BETWEEN ? AND ?) \"\n",
    "#Determines accousticness bounds\n",
    "accousticNessLower = averageFeatures[0] - averageFeatures[1]\n",
    "accousticNessUpper = averageFeatures[0] + averageFeatures[1]\n",
    "#Determines danceability bounds\n",
    "danceLower = averageFeatures[2] - averageFeatures[3]\n",
    "danceUpper = averageFeatures[2] + averageFeatures[3]\n",
    "#Determines energy bounds\n",
    "energyLower = averageFeatures[6] - averageFeatures[7]\n",
    "energyUpper = averageFeatures[6] + averageFeatures[7]\n",
    "#Determines instrumentalness bounds\n",
    "instrumentalnessLower = averageFeatures[8] - averageFeatures[9]\n",
    "instrumentalnessUpper = averageFeatures[8] + averageFeatures[9]\n",
    "#Determines liveness bounds\n",
    "livenessLower = averageFeatures[10] - averageFeatures[11]\n",
    "livenessUpper = averageFeatures[10] + averageFeatures[11]\n",
    "#Determines loudness bounds\n",
    "loudnessLower = averageFeatures[12] - averageFeatures[13]\n",
    "loudnessUpper = averageFeatures[12] + averageFeatures[13]\n",
    "#Determines mode bounds\n",
    "modeLower = averageFeatures[14] - averageFeatures[15]\n",
    "modeUpper = averageFeatures[14] + averageFeatures[15]\n",
    "#Determines speechiness bounds\n",
    "speechinessLower = averageFeatures[16] - averageFeatures[17]\n",
    "speechinessUpper = averageFeatures[16] + averageFeatures[17]\n",
    "#Determines tempo bounds\n",
    "tempoLower = averageFeatures[18] - averageFeatures[19]\n",
    "tempoUpper = averageFeatures[18] + averageFeatures[19]\n",
    "#Determines time signature bounds\n",
    "timeSigLower = averageFeatures[20] - averageFeatures[21]\n",
    "timeSigUpper = averageFeatures[20] + averageFeatures[21]\n",
    "#Determines valence signature bounds\n",
    "valenceLower = averageFeatures[22] - averageFeatures[23]\n",
    "valenceUpper = averageFeatures[22] + averageFeatures[23]\n",
    "desiredSong = songCur.execute(query, (accousticNessLower,accousticNessUpper, danceLower, danceUpper,energyLower, energyUpper, instrumentalnessLower, instrumentalnessUpper, livenessLower, livenessUpper, loudnessLower, loudnessUpper, modeLower, modeUpper, speechinessLower, speechinessUpper, tempoLower, tempoUpper, timeSigLower, timeSigUpper, valenceLower, valenceUpper))\n",
    "listOfSongs = desiredSong.fetchall()\n",
    "print(len(listOfSongs))"
   ]
  }
 ],
 "metadata": {
  "kernelspec": {
   "display_name": "Python 3",
   "language": "python",
   "name": "python3"
  },
  "language_info": {
   "codemirror_mode": {
    "name": "ipython",
    "version": 3
   },
   "file_extension": ".py",
   "mimetype": "text/x-python",
   "name": "python",
   "nbconvert_exporter": "python",
   "pygments_lexer": "ipython3",
   "version": "3.10.10"
  },
  "orig_nbformat": 4
 },
 "nbformat": 4,
 "nbformat_minor": 2
}
