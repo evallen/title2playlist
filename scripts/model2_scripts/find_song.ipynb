{
 "cells": [
  {
   "attachments": {},
   "cell_type": "markdown",
   "metadata": {},
   "source": [
    "This code block imports all necessary libraries and fetches the average feature values given a title for the playlist"
   ]
  },
  {
   "cell_type": "code",
   "execution_count": 10,
   "metadata": {},
   "outputs": [],
   "source": [
    "import matplotlib.pyplot as plt\n",
    "import numpy as np\n",
    "import pandas as pd\n",
    "import sqlite3\n",
    "#Connects to the title dataset\n",
    "title_conn = sqlite3.Connection(\"../../data/title/title_dataset.db\")\n",
    "titleCur = title_conn.cursor()\n",
    "# Selects database entry titles with title run it\n",
    "data = titleCur.execute(\"SELECT * FROM TITLES WHERE title = 'run it'\")\n",
    "listOfResults = data.fetchall()\n",
    "averageFeatures = np.zeros(24) #Datatype that represents the average feature\n",
    "#Calculates the sum of all results\n",
    "for result in listOfResults:\n",
    "    resultList = list(result) #Converts tuple into list\n",
    "    resultList.pop(0) #Removes title from list\n",
    "    resultArray = np.asarray(resultList) #converts list to numpy array\n",
    "    averageFeatures = np.add(resultArray,averageFeatures) #Sums all features\n",
    "averageFeatures = np.divide(averageFeatures, len(listOfResults)) #Calulates average feature value\n"
   ]
  },
  {
   "attachments": {},
   "cell_type": "markdown",
   "metadata": {},
   "source": [
    "Queries Songs in the dataset within the feature bounds provided in averageFeatures"
   ]
  },
  {
   "cell_type": "code",
   "execution_count": 15,
   "metadata": {},
   "outputs": [
    {
     "name": "stdout",
     "output_type": "stream",
     "text": [
      "11\n",
      "1.9170213225780093\n"
     ]
    }
   ],
   "source": [
    "#Connects to the Song dataset\n",
    "song_conn = sqlite3.Connection(\"../../data/song/song_dataset.db\")\n",
    "songCur = song_conn.cursor()\n",
    "query = \"SELECT * FROM songs WHERE (acousticness BETWEEN ? AND ?) AND (danceability BETWEEN ? AND ?) AND (energy BETWEEN ? AND ?) AND (instrumentalness BETWEEN ? AND ?) AND (liveness BETWEEN ? AND ?) AND (loudness BETWEEN ? AND ?) AND (mode BETWEEN ? AND ?) AND (speechiness BETWEEN ? AND ?) AND (tempo BETWEEN ? AND ?) AND (time_signature BETWEEN ? AND ?) AND (valence BETWEEN ? AND ?) \"\n",
    "#Determines accousticness bounds\n",
    "accousticNessLower = averageFeatures[0] - averageFeatures[1]\n",
    "accousticNessUpper = averageFeatures[0] + averageFeatures[1]\n",
    "#Determines danceability bounds\n",
    "danceLower = averageFeatures[2] - averageFeatures[3]\n",
    "danceUpper = averageFeatures[2] + averageFeatures[3]\n",
    "#Determines energy bounds\n",
    "energyLower = averageFeatures[6] - averageFeatures[7]\n",
    "energyUpper = averageFeatures[6] + averageFeatures[7]\n",
    "#Determines instrumentalness bounds\n",
    "instrumentalnessLower = averageFeatures[8] - averageFeatures[9]\n",
    "instrumentalnessUpper = averageFeatures[8] + averageFeatures[9]\n",
    "#Determines liveness bounds\n",
    "livenessLower = averageFeatures[10] - averageFeatures[11]\n",
    "livenessUpper = averageFeatures[10] + averageFeatures[11]\n",
    "#Determines loudness bounds\n",
    "loudnessLower = averageFeatures[12] - averageFeatures[13]\n",
    "loudnessUpper = averageFeatures[12] + averageFeatures[13]\n",
    "#Determines mode bounds\n",
    "modeLower = averageFeatures[14] - averageFeatures[15]\n",
    "modeUpper = averageFeatures[14] + averageFeatures[15]\n",
    "#Determines speechiness bounds\n",
    "speechinessLower = averageFeatures[16] - averageFeatures[17]\n",
    "speechinessUpper = averageFeatures[16] + averageFeatures[17]\n",
    "#Determines tempo bounds\n",
    "tempoLower = averageFeatures[18] - averageFeatures[19]\n",
    "tempoUpper = averageFeatures[18] + averageFeatures[19]\n",
    "#Determines time signature bounds\n",
    "timeSigLower = averageFeatures[20] - averageFeatures[21]\n",
    "timeSigUpper = averageFeatures[20] + averageFeatures[21]\n",
    "#Determines valence signature bounds\n",
    "valenceLower = averageFeatures[22] - averageFeatures[23]\n",
    "valenceUpper = averageFeatures[22] + averageFeatures[23]\n",
    "#Executes the SQL query to retrieve data that are within bounds\n",
    "desiredSong = songCur.execute(query, (accousticNessLower,accousticNessUpper, danceLower, danceUpper,energyLower, energyUpper, instrumentalnessLower, instrumentalnessUpper, livenessLower, livenessUpper, loudnessLower, loudnessUpper, modeLower, modeUpper, speechinessLower, speechinessUpper, tempoLower, tempoUpper, timeSigLower, timeSigUpper, valenceLower, valenceUpper))\n",
    "data = pd.read_sql(query, song_conn, params=(accousticNessLower,accousticNessUpper, danceLower, danceUpper,energyLower, energyUpper, instrumentalnessLower, instrumentalnessUpper, livenessLower, livenessUpper, loudnessLower, loudnessUpper, modeLower, modeUpper, speechinessLower, speechinessUpper, tempoLower, tempoUpper, timeSigLower, timeSigUpper, valenceLower, valenceUpper))\n",
    "#Extracts only the columns that contain the feature values of interest\n",
    "listOfColumns = ['acousticness','danceability','energy', 'instrumentalness', 'liveness', 'loudness', 'mode','speechiness', 'tempo', 'time_signature', 'valence']\n",
    "featureMatrix = data.loc[:, listOfColumns]\n",
    "#Converts the pandas datafram into a numpy array.\n",
    "featureMatrix = featureMatrix.to_numpy() \n",
    "#Contains the mean values for all features\n",
    "meanMatrix = np.array([averageFeatures[0], averageFeatures[2], averageFeatures[6], averageFeatures[8], averageFeatures[10], averageFeatures[12], averageFeatures[14], averageFeatures[16], averageFeatures[18], averageFeatures[20], averageFeatures[22]])\n",
    "#Contains the std deviation values for all features.\n",
    "stdDevMatrix = np.array([averageFeatures[0], averageFeatures[3], averageFeatures[7], averageFeatures[9], averageFeatures[11], averageFeatures[13], averageFeatures[15], averageFeatures[17], averageFeatures[19], averageFeatures[21], averageFeatures[23]])\n",
    "print(meanMatrix.size)\n",
    "#Calculated distances from each song to center\n",
    "distanceMatrix = np.subtract(featureMatrix, meanMatrix) # d - m\n",
    "distanceMatrix = np.divide(distanceMatrix, stdDevMatrix) # (d-m) / std deviation\n",
    "distanceMatrix = np.power(distanceMatrix, 2) #Squares the previous result\n",
    "distanceMatrix = np.sum(distanceMatrix, axis=1) #Sums over the entire row\n",
    "distanceMatrix = np.sqrt(distanceMatrix) #Square roots the result\n",
    "print(distanceMatrix[0])"
   ]
  }
 ],
 "metadata": {
  "kernelspec": {
   "display_name": "Python 3",
   "language": "python",
   "name": "python3"
  },
  "language_info": {
   "codemirror_mode": {
    "name": "ipython",
    "version": 3
   },
   "file_extension": ".py",
   "mimetype": "text/x-python",
   "name": "python",
   "nbconvert_exporter": "python",
   "pygments_lexer": "ipython3",
   "version": "3.10.10"
  },
  "orig_nbformat": 4
 },
 "nbformat": 4,
 "nbformat_minor": 2
}
