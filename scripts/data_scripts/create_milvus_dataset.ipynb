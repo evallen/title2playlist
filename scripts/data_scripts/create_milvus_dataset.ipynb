{
 "cells": [
  {
   "cell_type": "code",
   "execution_count": 10,
   "metadata": {},
   "outputs": [
    {
     "name": "stdout",
     "output_type": "stream",
     "text": [
      "Building new collection...\n"
     ]
    }
   ],
   "source": [
    "from pymilvus import (\n",
    "    connections,\n",
    "    FieldSchema,\n",
    "    DataType,\n",
    "    CollectionSchema,\n",
    "    Collection,\n",
    "    utility,\n",
    ")\n",
    "import random\n",
    "\n",
    "connections.connect(\"default\", host=\"localhost\", port=\"19530\")\n",
    "\n",
    "VEC_DIM = 768\n",
    "MAX_TITLE_LEN = 200\n",
    "TEST_N = 3000\n",
    "COLLECTION_NAME = \"playlists\"\n",
    "\n",
    "fields = [\n",
    "    FieldSchema(name=\"pid\", dtype=DataType.INT64, is_primary=True, auto_id=False),\n",
    "    FieldSchema(name=\"title\", dtype=DataType.VARCHAR, max_length=MAX_TITLE_LEN),\n",
    "    FieldSchema(name=\"embedding\", dtype=DataType.FLOAT_VECTOR, dim=VEC_DIM)\n",
    "]\n",
    "\n",
    "\n",
    "def build_collection():\n",
    "    schema = CollectionSchema(fields, \"Playlist embeddings\")\n",
    "    collection = Collection(COLLECTION_NAME, schema)\n",
    "\n",
    "    entities = [\n",
    "        [i for i in range(TEST_N)],\n",
    "        [f\"playlist {i}\" for i in range(TEST_N)],\n",
    "        [[random.random() for _ in range(VEC_DIM)] for _ in range(TEST_N)],\n",
    "    ]\n",
    "\n",
    "    collection.insert(entities)\n",
    "    collection.flush()\n",
    "\n",
    "    index = {\n",
    "        \"index_type\": \"IVF_FLAT\",\n",
    "        \"metric_type\": \"L2\",\n",
    "        \"params\": {\"nlist\": 128},\n",
    "    }\n",
    "\n",
    "    collection.create_index(\"embedding\", index)\n",
    "\n",
    "\n",
    "if not utility.has_collection(COLLECTION_NAME):\n",
    "    print(\"Building new collection...\")\n",
    "    build_collection()\n",
    "else:\n",
    "    print(f\"Collection '{COLLECTION_NAME}' already exists\")"
   ]
  },
  {
   "cell_type": "code",
   "execution_count": 8,
   "metadata": {},
   "outputs": [
    {
     "data": {
      "text/plain": [
       "<pymilvus.orm.search.SearchResult at 0x7f3b54254040>"
      ]
     },
     "execution_count": 8,
     "metadata": {},
     "output_type": "execute_result"
    }
   ],
   "source": [
    "collection = Collection(COLLECTION_NAME)\n",
    "collection.load()\n",
    "vectors_to_search = entities[-1][-2:]\n",
    "search_params = {\n",
    "    \"metric_type\": \"L2\",\n",
    "    \"params\": {\"nprobe\": 10}\n",
    "}\n",
    "result = collection.search(vectors_to_search, \"embedding\", search_params, limit=3, output_fields=[\"pid\", \"title\"])\n",
    "result."
   ]
  }
 ],
 "metadata": {
  "kernelspec": {
   "display_name": "env",
   "language": "python",
   "name": "python3"
  },
  "language_info": {
   "codemirror_mode": {
    "name": "ipython",
    "version": 3
   },
   "file_extension": ".py",
   "mimetype": "text/x-python",
   "name": "python",
   "nbconvert_exporter": "python",
   "pygments_lexer": "ipython3",
   "version": "3.10.6"
  },
  "orig_nbformat": 4
 },
 "nbformat": 4,
 "nbformat_minor": 2
}
