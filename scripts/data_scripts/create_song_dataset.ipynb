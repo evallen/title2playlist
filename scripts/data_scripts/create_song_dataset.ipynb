{
 "cells": [
  {
   "attachments": {},
   "cell_type": "markdown",
   "metadata": {},
   "source": [
    "# Song Dataset Creation\n",
    "\n",
    "This notebook creates the full song dataset.\n",
    "\n",
    "It starts from an initial song dataset downloaded from the internet and fills\n",
    "in whatever songs it doesn't have from the playlist dataset list.\n",
    "\n",
    "Each song is queried from the Spotify API to get its features and other\n",
    "relevant information."
   ]
  },
  {
   "cell_type": "code",
   "execution_count": null,
   "metadata": {},
   "outputs": [],
   "source": [
    "# Parameters\n",
    "\n",
    "ROOT_PATH = \"../../\"\n",
    "ORIGINAL_SONG_DATASET_PATH = f\"{ROOT_PATH}/data/song/song_dataset_1M_original.csv\"\n",
    "NEW_SONG_DATASET_PATH = f\"{ROOT_PATH}/data/song/song_dataset.csv\"\n",
    "PLAYLIST_DATASET_PATH = f\"{ROOT_PATH}/data/playlist/\""
   ]
  },
  {
   "cell_type": "code",
   "execution_count": null,
   "metadata": {},
   "outputs": [],
   "source": []
  }
 ],
 "metadata": {
  "kernelspec": {
   "display_name": "Python 3",
   "language": "python",
   "name": "python3"
  },
  "language_info": {
   "name": "python",
   "version": "3.10.6"
  },
  "orig_nbformat": 4,
  "vscode": {
   "interpreter": {
    "hash": "916dbcbb3f70747c44a77c7bcd40155683ae19c65e1c03b4aa3499c5328201f1"
   }
  }
 },
 "nbformat": 4,
 "nbformat_minor": 2
}
